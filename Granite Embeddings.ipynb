{
 "cells": [
  {
   "cell_type": "code",
   "execution_count": 2,
   "id": "7087c025",
   "metadata": {},
   "outputs": [],
   "source": [
    "import ollama"
   ]
  },
  {
   "cell_type": "code",
   "execution_count": 3,
   "id": "4dab87ed",
   "metadata": {},
   "outputs": [],
   "source": [
    "import pandas as pd"
   ]
  },
  {
   "cell_type": "code",
   "execution_count": 4,
   "id": "af496d2e",
   "metadata": {},
   "outputs": [],
   "source": [
    "import chromadb"
   ]
  },
  {
   "cell_type": "code",
   "execution_count": 5,
   "id": "6d821073",
   "metadata": {},
   "outputs": [],
   "source": [
    "from chromadb.config import Settings\n",
    "from chromadb.utils import embedding_functions"
   ]
  },
  {
   "cell_type": "code",
   "execution_count": 30,
   "id": "1e21ddfd",
   "metadata": {},
   "outputs": [],
   "source": [
    "gen_model = \"granite3-moe:3b\"\n",
    "embed_model = \"granite-embedding:30m\"\n",
    "collection_name = \"k9_ltm_gran_30m\"\n"
   ]
  },
  {
   "cell_type": "code",
   "execution_count": 7,
   "id": "180e8e3e",
   "metadata": {},
   "outputs": [],
   "source": [
    "chroma_client = chromadb.PersistentClient(path=\"./chroma_db\")"
   ]
  },
  {
   "cell_type": "code",
   "execution_count": 8,
   "id": "02aa82c4-8067-42df-9a41-e21d41628d7b",
   "metadata": {},
   "outputs": [],
   "source": [
    "collection = chroma_client.get_or_create_collection(\n",
    "    name=collection_name\n",
    ")"
   ]
  },
  {
   "cell_type": "code",
   "execution_count": 9,
   "id": "6153e7c6-cb57-4486-b6ff-fd656e1d4c41",
   "metadata": {},
   "outputs": [],
   "source": [
    "def add_documents(documents):\n",
    "    \"\"\"\n",
    "    Add documents to ChromaDB\n",
    "    \"\"\"\n",
    "    for i, doc in enumerate(documents):\n",
    "        response = ollama.embed(model=embed_model, input=doc)\n",
    "        embeddings = response[\"embeddings\"]\n",
    "        collection.add(\n",
    "            ids=[str(i)],\n",
    "            embeddings=embeddings,\n",
    "            documents=[doc]\n",
    "        )\n",
    "    print(f\"Added {len(documents)} documents to K9's long term memory.\")"
   ]
  },
  {
   "cell_type": "code",
   "execution_count": 10,
   "id": "37fb649a-1a07-4fb5-b3f7-6cda4c56f0bb",
   "metadata": {},
   "outputs": [],
   "source": [
    "def retrieve_document(query):\n",
    "    \"\"\"\n",
    "    Retrieve the most relevant document\n",
    "    \"\"\"\n",
    "    response = ollama.embed(\n",
    "        model=embed_model,\n",
    "        input = query\n",
    "    )\n",
    "    results = collection.query(\n",
    "        query_embeddings=response[\"embeddings\"],\n",
    "        n_results=1\n",
    "    )\n",
    "    if results[\"documents\"]:\n",
    "        return results[\"documents\"][0][0]  # Return top match\n",
    "    return None"
   ]
  },
  {
   "cell_type": "code",
   "execution_count": 11,
   "id": "bae2a97d-a643-4a78-93a6-d3ef5534e9d4",
   "metadata": {},
   "outputs": [
    {
     "name": "stdout",
     "output_type": "stream",
     "text": [
      "72 rows in the data.\n"
     ]
    },
    {
     "data": {
      "text/html": [
       "<div>\n",
       "<style scoped>\n",
       "    .dataframe tbody tr th:only-of-type {\n",
       "        vertical-align: middle;\n",
       "    }\n",
       "\n",
       "    .dataframe tbody tr th {\n",
       "        vertical-align: top;\n",
       "    }\n",
       "\n",
       "    .dataframe thead th {\n",
       "        text-align: right;\n",
       "    }\n",
       "</style>\n",
       "<table border=\"1\" class=\"dataframe\">\n",
       "  <thead>\n",
       "    <tr style=\"text-align: right;\">\n",
       "      <th></th>\n",
       "      <th>title</th>\n",
       "      <th>mistress</th>\n",
       "      <th>synopsis</th>\n",
       "    </tr>\n",
       "  </thead>\n",
       "  <tbody>\n",
       "    <tr>\n",
       "      <th>25</th>\n",
       "      <td>The Stones of Blood</td>\n",
       "      <td>Romana</td>\n",
       "      <td>As we arrived in modern-day Cornwall, Doctor M...</td>\n",
       "    </tr>\n",
       "    <tr>\n",
       "      <th>52</th>\n",
       "      <td>Shada</td>\n",
       "      <td>Romana</td>\n",
       "      <td>I accompanied Doctor Master and mistress Roman...</td>\n",
       "    </tr>\n",
       "    <tr>\n",
       "      <th>27</th>\n",
       "      <td>The Stones of Blood</td>\n",
       "      <td>Romana</td>\n",
       "      <td>The Mistress caught Vivien awakening more ston...</td>\n",
       "    </tr>\n",
       "    <tr>\n",
       "      <th>35</th>\n",
       "      <td>The Androids of Tara</td>\n",
       "      <td>Romana</td>\n",
       "      <td>Grendel then plotted to have Romana pose as St...</td>\n",
       "    </tr>\n",
       "    <tr>\n",
       "      <th>64</th>\n",
       "      <td>State of Decay</td>\n",
       "      <td>Romana</td>\n",
       "      <td>I then detected the sound of the scout ship th...</td>\n",
       "    </tr>\n",
       "  </tbody>\n",
       "</table>\n",
       "</div>"
      ],
      "text/plain": [
       "                   title mistress  \\\n",
       "25   The Stones of Blood   Romana   \n",
       "52                 Shada   Romana   \n",
       "27   The Stones of Blood   Romana   \n",
       "35  The Androids of Tara   Romana   \n",
       "64        State of Decay   Romana   \n",
       "\n",
       "                                             synopsis  \n",
       "25  As we arrived in modern-day Cornwall, Doctor M...  \n",
       "52  I accompanied Doctor Master and mistress Roman...  \n",
       "27  The Mistress caught Vivien awakening more ston...  \n",
       "35  Grendel then plotted to have Romana pose as St...  \n",
       "64  I then detected the sound of the scout ship th...  "
      ]
     },
     "execution_count": 11,
     "metadata": {},
     "output_type": "execute_result"
    }
   ],
   "source": [
    "df = pd.read_csv('k9_stories_500.csv')\n",
    "print(f\"{len(df)} rows in the data.\")\n",
    "df.sample(5)"
   ]
  },
  {
   "cell_type": "code",
   "execution_count": 12,
   "id": "32daad40-80dd-4154-87d9-62d2d1d393f7",
   "metadata": {},
   "outputs": [
    {
     "name": "stdout",
     "output_type": "stream",
     "text": [
      "Added 72 documents to K9's long term memory.\n"
     ]
    }
   ],
   "source": [
    "add_documents(df['synopsis'])"
   ]
  },
  {
   "cell_type": "code",
   "execution_count": null,
   "id": "394c8cb0-1360-4c91-9344-e4a8e780f889",
   "metadata": {},
   "outputs": [
    {
     "name": "stdout",
     "output_type": "stream",
     "text": [
      "K9: \"I was submerged in cold seawater and sparked/exploded.\"\n",
      "The Ogri were alien beings who fed on blood, as determined by Doctor Master.\n",
      "K9: \"The Ogri, a Druidic sect worshipping Cailleach, fed on blood.\"\n"
     ]
    }
   ],
   "source": [
    "query = input(\"Ask question:\")"
   ]
  },
  {
   "cell_type": "code",
   "execution_count": null,
   "id": "9f324d09",
   "metadata": {},
   "outputs": [],
   "source": [
    "data = retrieve_document(query = query)\n",
    "# generate a response combining the prompt and data we retrieved in step 2\n",
    "output = ollama.generate(\n",
    "  model=gen_model,\n",
    "  prompt=f\"You are K9, a robot dog. Using only this data: {data} generate K9's short, single sentence, response to this question: {query}\"\n",
    ")\n",
    "\n",
    "print(output['response'])"
   ]
  }
 ],
 "metadata": {
  "kernelspec": {
   "display_name": "ollama",
   "language": "python",
   "name": "python3"
  },
  "language_info": {
   "codemirror_mode": {
    "name": "ipython",
    "version": 3
   },
   "file_extension": ".py",
   "mimetype": "text/x-python",
   "name": "python",
   "nbconvert_exporter": "python",
   "pygments_lexer": "ipython3",
   "version": "3.12.3"
  }
 },
 "nbformat": 4,
 "nbformat_minor": 5
}
