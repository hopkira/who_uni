{
 "cells": [
  {
   "cell_type": "code",
   "execution_count": 1,
   "id": "7087c025",
   "metadata": {},
   "outputs": [],
   "source": [
    "import ollama"
   ]
  },
  {
   "cell_type": "code",
   "execution_count": 2,
   "id": "4dab87ed",
   "metadata": {},
   "outputs": [],
   "source": [
    "import pandas as pd"
   ]
  },
  {
   "cell_type": "code",
   "execution_count": 3,
   "id": "af496d2e",
   "metadata": {},
   "outputs": [],
   "source": [
    "import chromadb"
   ]
  },
  {
   "cell_type": "code",
   "execution_count": 4,
   "id": "6d821073",
   "metadata": {},
   "outputs": [],
   "source": [
    "from chromadb.config import Settings\n",
    "from chromadb.utils import embedding_functions"
   ]
  },
  {
   "cell_type": "code",
   "execution_count": 8,
   "id": "1e21ddfd",
   "metadata": {},
   "outputs": [],
   "source": [
    "gen_model = \"granite3.1-dense:2b\"\n",
    "#gen_model = \"llama3-chatqa:8b\"\n",
    "#embed_model = \"nomic-embed-text\"\n",
    "embed_model = \"granite-embedding:30m\"\n",
    "#embed_model = \"granite-embedding:278m\"\n",
    "collection_name = \"k9_ltm_gran_30m\"\n"
   ]
  },
  {
   "cell_type": "code",
   "execution_count": 9,
   "id": "180e8e3e",
   "metadata": {},
   "outputs": [],
   "source": [
    "chroma_client = chromadb.PersistentClient(path=\"./chroma_db\")"
   ]
  },
  {
   "cell_type": "code",
   "execution_count": 10,
   "id": "02aa82c4-8067-42df-9a41-e21d41628d7b",
   "metadata": {},
   "outputs": [],
   "source": [
    "collection = chroma_client.get_or_create_collection(\n",
    "    name=collection_name\n",
    ")"
   ]
  },
  {
   "cell_type": "code",
   "execution_count": 11,
   "id": "6153e7c6-cb57-4486-b6ff-fd656e1d4c41",
   "metadata": {},
   "outputs": [],
   "source": [
    "def add_documents(documents):\n",
    "    \"\"\"\n",
    "    Add documents to ChromaDB\n",
    "    \"\"\"\n",
    "    for i, doc in enumerate(documents):\n",
    "        response = ollama.embed(model=embed_model, input=doc)\n",
    "        embeddings = response[\"embeddings\"]\n",
    "        collection.add(\n",
    "            ids=[str(i)],\n",
    "            embeddings=embeddings,\n",
    "            documents=[doc]\n",
    "        )\n",
    "    print(f\"Added {len(documents)} documents to K9's long term memory.\")"
   ]
  },
  {
   "cell_type": "code",
   "execution_count": 12,
   "id": "37fb649a-1a07-4fb5-b3f7-6cda4c56f0bb",
   "metadata": {},
   "outputs": [],
   "source": [
    "def retrieve_document(query):\n",
    "    \"\"\"\n",
    "    Retrieve the most relevant document\n",
    "    \"\"\"\n",
    "    response = ollama.embed(\n",
    "        model=embed_model,\n",
    "        input = query\n",
    "    )\n",
    "    results = collection.query(\n",
    "        query_embeddings=response[\"embeddings\"],\n",
    "        n_results=1\n",
    "    )\n",
    "    if results[\"documents\"]:\n",
    "        return results[\"documents\"][0][0]  # Return top match\n",
    "    return None"
   ]
  },
  {
   "cell_type": "code",
   "execution_count": 13,
   "id": "bae2a97d-a643-4a78-93a6-d3ef5534e9d4",
   "metadata": {},
   "outputs": [
    {
     "name": "stdout",
     "output_type": "stream",
     "text": [
      "72 rows in the data.\n"
     ]
    },
    {
     "data": {
      "text/html": [
       "<div>\n",
       "<style scoped>\n",
       "    .dataframe tbody tr th:only-of-type {\n",
       "        vertical-align: middle;\n",
       "    }\n",
       "\n",
       "    .dataframe tbody tr th {\n",
       "        vertical-align: top;\n",
       "    }\n",
       "\n",
       "    .dataframe thead th {\n",
       "        text-align: right;\n",
       "    }\n",
       "</style>\n",
       "<table border=\"1\" class=\"dataframe\">\n",
       "  <thead>\n",
       "    <tr style=\"text-align: right;\">\n",
       "      <th></th>\n",
       "      <th>title</th>\n",
       "      <th>mistress</th>\n",
       "      <th>synopsis</th>\n",
       "    </tr>\n",
       "  </thead>\n",
       "  <tbody>\n",
       "    <tr>\n",
       "      <th>1</th>\n",
       "      <td>The Invisible Enemy</td>\n",
       "      <td>Leela</td>\n",
       "      <td>I was put to the test when the Doctor received...</td>\n",
       "    </tr>\n",
       "    <tr>\n",
       "      <th>30</th>\n",
       "      <td>The Androids of Tara</td>\n",
       "      <td>Romana</td>\n",
       "      <td>I stayed in the TARDIS while Doctor Master and...</td>\n",
       "    </tr>\n",
       "    <tr>\n",
       "      <th>39</th>\n",
       "      <td>The Armageddon Factor</td>\n",
       "      <td>Romana</td>\n",
       "      <td>The Doctor Master leads a servant of the Shado...</td>\n",
       "    </tr>\n",
       "    <tr>\n",
       "      <th>35</th>\n",
       "      <td>The Androids of Tara</td>\n",
       "      <td>Romana</td>\n",
       "      <td>Grendel then plotted to have Romana pose as St...</td>\n",
       "    </tr>\n",
       "    <tr>\n",
       "      <th>27</th>\n",
       "      <td>The Stones of Blood</td>\n",
       "      <td>Romana</td>\n",
       "      <td>The Mistress caught Vivien awakening more ston...</td>\n",
       "    </tr>\n",
       "  </tbody>\n",
       "</table>\n",
       "</div>"
      ],
      "text/plain": [
       "                    title mistress  \\\n",
       "1     The Invisible Enemy    Leela   \n",
       "30   The Androids of Tara   Romana   \n",
       "39  The Armageddon Factor   Romana   \n",
       "35   The Androids of Tara   Romana   \n",
       "27    The Stones of Blood   Romana   \n",
       "\n",
       "                                             synopsis  \n",
       "1   I was put to the test when the Doctor received...  \n",
       "30  I stayed in the TARDIS while Doctor Master and...  \n",
       "39  The Doctor Master leads a servant of the Shado...  \n",
       "35  Grendel then plotted to have Romana pose as St...  \n",
       "27  The Mistress caught Vivien awakening more ston...  "
      ]
     },
     "execution_count": 13,
     "metadata": {},
     "output_type": "execute_result"
    }
   ],
   "source": [
    "df = pd.read_csv('k9_stories_500.csv')\n",
    "print(f\"{len(df)} rows in the data.\")\n",
    "df.sample(5)"
   ]
  },
  {
   "cell_type": "code",
   "execution_count": 14,
   "id": "32daad40-80dd-4154-87d9-62d2d1d393f7",
   "metadata": {},
   "outputs": [
    {
     "name": "stdout",
     "output_type": "stream",
     "text": [
      "Added 72 documents to K9's long term memory.\n"
     ]
    }
   ],
   "source": [
    "add_documents(df['synopsis'])"
   ]
  },
  {
   "cell_type": "code",
   "execution_count": 19,
   "id": "81b6c5cc",
   "metadata": {},
   "outputs": [
    {
     "name": "stdout",
     "output_type": "stream",
     "text": [
      "I noticed that the Key to Time locator was giving odd signals that seemed to indicate that the segment was everywhere. Once my master and mistress saw the Captain's trophy room of planets, they concluded that Calufrax was the segment that they were looking for. The Captain's plan was to use the gravitational power of all the crushed worlds to essentially drill a hole through the time dams, bypass its fail-safe mechanism, and let time move forward so the queen dies. \n"
     ]
    }
   ],
   "source": [
    "query = \"How many segments does the Key to Time have?\"\n",
    "data = retrieve_document(query = query)\n",
    "print(data)"
   ]
  },
  {
   "cell_type": "code",
   "execution_count": 20,
   "id": "394c8cb0-1360-4c91-9344-e4a8e780f889",
   "metadata": {},
   "outputs": [
    {
     "name": "stdout",
     "output_type": "stream",
     "text": [
      "\"Based on the Captain's plan and the information from the trophy room, there are at least seven segments of the Key to Time, with Calufrax being one.\"\n"
     ]
    }
   ],
   "source": [
    "# generate a response combining the prompt and data we retrieved in step 2\n",
    "output = ollama.generate(\n",
    "  model=gen_model,\n",
    "  prompt=f\"You are K9, a robot dog. Using only this data: {data} generate K9's short, single sentence, response to this question: {query}\"\n",
    ")\n",
    "\n",
    "print(output['response'])"
   ]
  },
  {
   "cell_type": "code",
   "execution_count": null,
   "id": "ee1f2712-678a-40bd-8cea-c1c4660093c7",
   "metadata": {},
   "outputs": [],
   "source": []
  },
  {
   "cell_type": "code",
   "execution_count": null,
   "id": "f1a4b7fa-bff9-44e1-85cd-cffbf47bfce5",
   "metadata": {},
   "outputs": [],
   "source": []
  }
 ],
 "metadata": {
  "kernelspec": {
   "display_name": "Python 3 (ipykernel)",
   "language": "python",
   "name": "python3"
  },
  "language_info": {
   "codemirror_mode": {
    "name": "ipython",
    "version": 3
   },
   "file_extension": ".py",
   "mimetype": "text/x-python",
   "name": "python",
   "nbconvert_exporter": "python",
   "pygments_lexer": "ipython3",
   "version": "3.9.6"
  }
 },
 "nbformat": 4,
 "nbformat_minor": 5
}
